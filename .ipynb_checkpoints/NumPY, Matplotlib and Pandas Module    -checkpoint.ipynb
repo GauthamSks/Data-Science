{
 "cells": [
  {
   "cell_type": "markdown",
   "metadata": {},
   "source": [
    "## <p style=\"text-align: center\">Data Analysis</p>"
   ]
  },
  {
   "cell_type": "markdown",
   "metadata": {},
   "source": [
    "*NumPY, Pandas and Matplotlib are the key modules for Data analysis and Visualization with Python.<br/>*\n",
    "\n",
    "- *NumPy is the fundamental package for scientific computing with Python it provides a powerful N-dimensional array object.*\n",
    "- *Pandas provides a high-performance, easy-to-use data structures and data analysis tools.*\n",
    "- *Matplotlib is a Python 2D plotting library.*\n"
   ]
  },
  {
   "cell_type": "code",
   "execution_count": 110,
   "metadata": {
    "scrolled": true
   },
   "outputs": [
    {
     "name": "stdout",
     "output_type": "stream",
     "text": [
      "<class 'numpy.ndarray'> \n",
      " int64\n",
      "\n",
      "\n",
      "[1.+0.j 2.+0.j 3.+0.j 4.+0.j 5.+0.j]\n",
      "\n",
      "\n",
      "[[0. 0.]\n",
      " [0. 0.]]\n",
      "\n",
      "\n",
      "[[1. 1. 1. 1.]\n",
      " [1. 1. 1. 1.]\n",
      " [1. 1. 1. 1.]]\n",
      "\n",
      "\n",
      "[[0.22222222 0.44444444 0.66666667]\n",
      " [0.88888889 1.11111111 1.33333333]\n",
      " [1.55555556 1.77777778 2.        ]]\n",
      "\n",
      "\n",
      "[0 1 2 3 4]\n",
      "\n",
      "\n",
      "[[ 1  2]\n",
      " [ 3  4]\n",
      " [ 5  6]\n",
      " [ 7  8]\n",
      " [ 9 10]]\n",
      "\n",
      "\n",
      "[[0.         0.22222222 0.44444444 0.66666667 0.88888889]\n",
      " [1.11111111 1.33333333 1.55555556 1.77777778 2.        ]]\n",
      "\n",
      "\n"
     ]
    }
   ],
   "source": [
    "import numpy as np\n",
    "import matplotlib.pyplot as mat\n",
    "%matplotlib inline \n",
    "\n",
    "# creating a numpy array \n",
    " \n",
    "# using the array() function, it converts the lists and tuples to numpy array\n",
    "\n",
    "a = np.array([1,2,3,4,5])\n",
    "print(type(a),\"\\n\",a.dtype)\n",
    "print(\"\\n\")\n",
    "\n",
    "# We can also specify the data type.\n",
    "# Numpy data type eg: .int64, .float64, .complex64 etc\n",
    "\n",
    "a = np.array([1,2,3,4,5], dtype= np.complex64) #can also specify it as just complex\n",
    "print(a)\n",
    "print(\"\\n\")\n",
    " \n",
    "# To create a Null or Zero array\n",
    "a = np.zeros((2,2)) # (2,2) specify the order of the matrix\n",
    "print(a)\n",
    "print(\"\\n\")\n",
    "\n",
    "# To create a Unit or Identity array\n",
    "a = np.ones((3,4))\n",
    "print(a)\n",
    "print(\"\\n\")\n",
    "\n",
    "# To create an array with random values\n",
    "a = np.empty((3,3))\n",
    "print(a)\n",
    "print(\"\\n\")\n",
    "\n",
    "#To create an array with sequences of numbers\n",
    "a = np.arange(0,5,1) #syntax is np.arange(start,end,incriment)\n",
    "print(a)\n",
    "print(\"\\n\")\n",
    "\n",
    "# The arange function always returns a 1D array which can be coverted\n",
    "a = np.arange(1,11,1).reshape(5,2)\n",
    "print(a)\n",
    "print(\"\\n\")\n",
    "\n",
    "#To create an array with sequences of floats \n",
    "a = np.linspace(0,2,10).reshape(2,5) # 10 numbers from 0 to 2\n",
    "print(a)\n",
    "print(\"\\n\")"
   ]
  },
  {
   "cell_type": "code",
   "execution_count": 111,
   "metadata": {},
   "outputs": [
    {
     "name": "stdout",
     "output_type": "stream",
     "text": [
      "2\n",
      "(2, 5)\n",
      "10\n",
      "float64\n"
     ]
    }
   ],
   "source": [
    "# Functions to get the attributes of a ndarray object\n",
    "print(a.ndim)\n",
    "print(a.shape)\n",
    "print(a.size)\n",
    "print(a.dtype)"
   ]
  },
  {
   "cell_type": "code",
   "execution_count": 112,
   "metadata": {
    "scrolled": true
   },
   "outputs": [
    {
     "name": "stdout",
     "output_type": "stream",
     "text": [
      "[[0.28560993 0.5826123  0.23501728]\n",
      " [0.6858035  0.44026121 0.56007062]\n",
      " [0.15965628 0.37812805 0.14105068]]\n",
      "\n",
      "\n",
      "[[0.78748586 0.72361333 0.12820049]\n",
      " [0.32324864 0.99459805 0.75487059]\n",
      " [0.33176914 0.12681027 0.26221862]]\n",
      "\n",
      "\n",
      "[[0.28560993 0.5826123  0.23501728]\n",
      " [0.6858035  0.44026121 0.56007062]\n",
      " [0.15965628 0.37812805 0.14105068]\n",
      " [0.78748586 0.72361333 0.12820049]\n",
      " [0.32324864 0.99459805 0.75487059]\n",
      " [0.33176914 0.12681027 0.26221862]] \n",
      "\n",
      "[[0.28560993 0.5826123  0.23501728 0.78748586 0.72361333 0.12820049]\n",
      " [0.6858035  0.44026121 0.56007062 0.32324864 0.99459805 0.75487059]\n",
      " [0.15965628 0.37812805 0.14105068 0.33176914 0.12681027 0.26221862]] \n",
      "\n"
     ]
    }
   ],
   "source": [
    "# statcking arrays horizontally and vertically\n",
    "\n",
    "a=np.random.rand(3,3) #take random values from a uniform distribution\n",
    "b=np.random.rand(3,3)\n",
    "print(a)\n",
    "print(\"\\n\")\n",
    "print(b)\n",
    "print(\"\\n\")\n",
    "\n",
    "print(np.vstack((a,b)),\"\\n\")\n",
    "print(np.hstack((a,b)),\"\\n\")"
   ]
  },
  {
   "cell_type": "code",
   "execution_count": 113,
   "metadata": {},
   "outputs": [
    {
     "name": "stdout",
     "output_type": "stream",
     "text": [
      "[[0.19232841 0.40824771 0.04673325]\n",
      " [0.77227845 0.01019571 0.16100972]] \n",
      "\n",
      "[[0.19232841 0.40824771 0.04673325]\n",
      " [0.77227845 0.01019571 0.16100972]] \n",
      "\n",
      "[[0.19232841 0.40824771 0.04673325 0.77227845 0.01019571 0.16100972]] \n",
      "\n"
     ]
    }
   ],
   "source": [
    "# reshape vs resize\n",
    "a = np.random.rand(2,3)\n",
    "print(a,\"\\n\")\n",
    "\n",
    "a.reshape(1,6)# as shown below the original array remains unchanged\n",
    "print(a,\"\\n\")\n",
    "\n",
    "a.resize(1,6)# changes the original array\n",
    "print(a,\"\\n\")\n"
   ]
  },
  {
   "cell_type": "code",
   "execution_count": 114,
   "metadata": {},
   "outputs": [
    {
     "name": "stdout",
     "output_type": "stream",
     "text": [
      "[[0.46870441 0.10699442 0.19712806]\n",
      " [0.28823069 0.66324375 0.09633799]\n",
      " [0.98120809 0.45330568 0.43277839]] \n",
      "\n",
      "[[0.46870441 0.10699442 0.19712806]\n",
      " [0.28823069 0.66324375 0.09633799]\n",
      " [0.98120809 0.45330568 0.43277839]]\n"
     ]
    }
   ],
   "source": [
    "# saving and loading the array.\n",
    "\n",
    "a = np.random.rand(3,3)\n",
    "print(a,\"\\n\")\n",
    "\n",
    "np.save('./Files/sample.npy',a) # 'a' is the array being saved\n",
    "\n",
    "b = np.load('./Files/sample.npy')\n",
    "print(b)"
   ]
  },
  {
   "cell_type": "markdown",
   "metadata": {},
   "source": [
    "#### Doing basic Math using the NumPY array"
   ]
  },
  {
   "cell_type": "code",
   "execution_count": 115,
   "metadata": {},
   "outputs": [
    {
     "name": "stdout",
     "output_type": "stream",
     "text": [
      "[[0.03279997 0.49816287]\n",
      " [0.32044684 0.99757936]] \n",
      "\n",
      "The sum of all the elements is: 1.8489890414257621 \n",
      "\n",
      "Row Sum: [0.53096284 1.3180262 ]\n",
      "Column Sum: [0.35324681 1.49574223]\n",
      "Dot Product:\n",
      " [[0.44604623 0.34808988]\n",
      " [0.93567353 0.77052001]]\n",
      "Trnaspose of matrix a is:\n",
      " [[0.03279997 0.32044684]\n",
      " [0.49816287 0.99757936]]\n"
     ]
    }
   ],
   "source": [
    "# In NumPY the axis=0 refers to the columns \n",
    "# axix=1 refers to the rows \n",
    "\n",
    "a = np.random.random((2,2))\n",
    "b = np.random.random((2,2))\n",
    "print(a,\"\\n\")\n",
    "print(\"The sum of all the elements is:\",a.sum(),\"\\n\") # find the sum of all the elements in the array\n",
    "\n",
    "row_sum = a.sum(axis=1)\n",
    "print(\"Row Sum:\",row_sum)\n",
    "\n",
    "column_sum = a.sum(axis=0)\n",
    "print(\"Column Sum:\",column_sum)\n",
    "\n",
    "# Matrix Multiplication\n",
    "\n",
    "print(\"Dot Product:\\n\",np.dot(a,b))\n",
    "\n",
    "#Transpose of a matrix\n",
    "\n",
    "print(\"Trnaspose of matrix a is:\\n\",a.T)\n"
   ]
  },
  {
   "cell_type": "markdown",
   "metadata": {},
   "source": [
    "#### Indexing and Slicing in NumPY array"
   ]
  },
  {
   "cell_type": "code",
   "execution_count": 130,
   "metadata": {},
   "outputs": [
    {
     "name": "stdout",
     "output_type": "stream",
     "text": [
      "[[0.77792962 0.74154292 0.47457867 0.99004491]\n",
      " [0.03878311 0.28875312 0.93564273 0.55320422]\n",
      " [0.33524104 0.31543468 0.75718979 0.47436972]\n",
      " [0.26275838 0.28208741 0.71386314 0.89474495]] \n",
      "\n",
      "Element at the index (0,0) is: 0.7779296213687691 \n",
      "\n",
      "1st column elements:\n",
      " [0.77792962 0.03878311 0.33524104 0.26275838]\n",
      "1st column elements:\n",
      " [0.77792962 0.03878311 0.33524104 0.26275838]\n",
      "2nd row 2nd column element:\n",
      " [0.28875312]\n",
      "\n",
      "\n",
      "1st row elements:\n",
      " [[0.77792962 0.74154292 0.47457867 0.99004491]]\n",
      "1st row and 2nd row elements:\n",
      " [[0.77792962 0.74154292 0.47457867 0.99004491]\n",
      " [0.03878311 0.28875312 0.93564273 0.55320422]]\n",
      "1st row and 2nd row elements:\n",
      " [[0.77792962 0.74154292 0.47457867 0.99004491]\n",
      " [0.03878311 0.28875312 0.93564273 0.55320422]]\n"
     ]
    }
   ],
   "source": [
    "a = np.random.rand(4,4)\n",
    "print(a,\"\\n\")\n",
    "# This is different from list where the syntax is a[0][0]\n",
    "print(\"Element at the index (0,0) is:\",a[0,0],\"\\n\") \n",
    "\n",
    "#slicing\n",
    "#The indices start from zero\n",
    "\n",
    "# The 1st zero represents the starting row index and 2nd zero the column index\n",
    "print(\"1st column elements:\\n\",a[0:4,0])\n",
    "print(\"1st column elements:\\n\",a[:,0]) #Equivalent to the step above\n",
    "\n",
    "print(\"2nd row 2nd column element:\\n\",a[1:2,1])\n",
    "print(\"\\n\")\n",
    "\n",
    "print(\"1st row elements:\\n\",a[0:1,:])\n",
    "print(\"1st row and 2nd row elements:\\n\",a[0:2,:])\n",
    "print(\"1st row and 2nd row elements:\\n\",a[0:2,...])\n",
    "\n",
    "\"\"\"NumPy also allows you to write this using dots,The dots (...) represent as many colons\n",
    "   as needed to produce a complete indexing tuple.For example, if x is an array with 5 axes, then\n",
    "   x[1,2,...] is equivalent to x[1,2,:,:,:],\n",
    "   x[...,3] to x[:,:,:,:,3] and\n",
    "   x[4,...,5,:] to x[4,:,:,5,:]\n",
    "\"\"\""
   ]
  },
  {
   "cell_type": "code",
   "execution_count": null,
   "metadata": {},
   "outputs": [],
   "source": []
  }
 ],
 "metadata": {
  "kernelspec": {
   "display_name": "Python 3",
   "language": "python",
   "name": "python3"
  },
  "language_info": {
   "codemirror_mode": {
    "name": "ipython",
    "version": 3
   },
   "file_extension": ".py",
   "mimetype": "text/x-python",
   "name": "python",
   "nbconvert_exporter": "python",
   "pygments_lexer": "ipython3",
   "version": "3.6.7"
  }
 },
 "nbformat": 4,
 "nbformat_minor": 2
}

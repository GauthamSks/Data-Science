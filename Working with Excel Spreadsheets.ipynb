{
 "cells": [
  {
   "cell_type": "markdown",
   "metadata": {},
   "source": [
    "### <p style=\"text-align:center\">Working with Excel Spreadsheets</p>"
   ]
  },
  {
   "cell_type": "code",
   "execution_count": 133,
   "metadata": {
    "scrolled": true
   },
   "outputs": [
    {
     "data": {
      "text/plain": [
       "['Sheet1', 'Sheet2', 'Sheet3']"
      ]
     },
     "execution_count": 133,
     "metadata": {},
     "output_type": "execute_result"
    }
   ],
   "source": [
    "import openpyxl\n",
    "wb=openpyxl.load_workbook('./Files/example.xlsx')\n",
    "#To get the sheet name\n",
    "wb.sheetnames\n"
   ]
  },
  {
   "cell_type": "code",
   "execution_count": 134,
   "metadata": {
    "scrolled": true
   },
   "outputs": [],
   "source": [
    "sheet = wb['Sheet3']"
   ]
  },
  {
   "cell_type": "code",
   "execution_count": 135,
   "metadata": {},
   "outputs": [
    {
     "data": {
      "text/plain": [
       "'Sheet3'"
      ]
     },
     "execution_count": 135,
     "metadata": {},
     "output_type": "execute_result"
    }
   ],
   "source": [
    "sheet.title"
   ]
  },
  {
   "cell_type": "code",
   "execution_count": 136,
   "metadata": {},
   "outputs": [
    {
     "data": {
      "text/plain": [
       "<Worksheet \"Sheet1\">"
      ]
     },
     "execution_count": 136,
     "metadata": {},
     "output_type": "execute_result"
    }
   ],
   "source": [
    "wb.active\n",
    "#Returns the last used sheet."
   ]
  },
  {
   "cell_type": "markdown",
   "metadata": {},
   "source": [
    "#### Getting Cells from the Sheets"
   ]
  },
  {
   "cell_type": "code",
   "execution_count": 137,
   "metadata": {},
   "outputs": [
    {
     "name": "stdout",
     "output_type": "stream",
     "text": [
      "<Cell 'Sheet1'.A1>\n",
      "2015-04-05 13:34:02\n",
      "Apples\n",
      "2\n",
      "Row 1, Column B is Apples\n"
     ]
    },
    {
     "data": {
      "text/plain": [
       "73"
      ]
     },
     "execution_count": 137,
     "metadata": {},
     "output_type": "execute_result"
    }
   ],
   "source": [
    "sheet = wb['Sheet1']\n",
    "print(sheet['A1'])\n",
    "print(sheet['A1'].value)\n",
    "c = sheet['B1']\n",
    "print(c.value)\n",
    "print(c.column)\n",
    "print('Row ' + str(c.row) + ', Column ' +'B'+ ' is ' + str(c.value))\n",
    "sheet['C1'].value"
   ]
  },
  {
   "cell_type": "markdown",
   "metadata": {},
   "source": [
    "*The Cell object has a value attribute that contains, unsurprisingly, the value stored in that cell. Cell objects also have row, column, and coordinate attributes that provide location information for the cell.*"
   ]
  },
  {
   "cell_type": "markdown",
   "metadata": {},
   "source": [
    "*As an alternative, you can also get a cell using the sheet’s cell() method and passing integers for its row and column keyword arguments.*"
   ]
  },
  {
   "cell_type": "code",
   "execution_count": 138,
   "metadata": {
    "scrolled": true
   },
   "outputs": [
    {
     "name": "stdout",
     "output_type": "stream",
     "text": [
      "<Cell 'Sheet1'.B1>\n",
      "1 Apples\n",
      "3 Pears\n",
      "5 Apples\n",
      "7 Strawberries\n"
     ]
    }
   ],
   "source": [
    "print(sheet.cell(row=1, column=2))\n",
    "for i in range(1, 8, 2):\n",
    "    print(i, sheet.cell(row=i, column=2).value)"
   ]
  },
  {
   "cell_type": "markdown",
   "metadata": {},
   "source": [
    "*To convert from letters to numbers, call the openpyxl.cell.column_index_from_string() function. To convert from numbers to letters, call the openpyxl.cell.get_column_letter() function. Enter the following into the interactive shell:*"
   ]
  },
  {
   "cell_type": "code",
   "execution_count": 139,
   "metadata": {
    "scrolled": true
   },
   "outputs": [
    {
     "name": "stdout",
     "output_type": "stream",
     "text": [
      "A\n",
      "AA\n",
      "AHP\n",
      "C\n",
      "1\n",
      "27\n"
     ]
    }
   ],
   "source": [
    "from openpyxl.utils import get_column_letter, column_index_from_string\n",
    "print(get_column_letter(1))\n",
    "print( get_column_letter(27))\n",
    "print(get_column_letter(900))\n",
    "print(get_column_letter(sheet.max_column))\n",
    "print(column_index_from_string('A'))\n",
    "print(column_index_from_string('AA'))"
   ]
  },
  {
   "cell_type": "markdown",
   "metadata": {},
   "source": [
    "*Also you can slice Worksheet objects to get all the Cell objects in a row, column, or rectangular area of the spreadsheet. Then you can loop over all the cells in the slice. Enter the following into the interactive shell:*"
   ]
  },
  {
   "cell_type": "code",
   "execution_count": 140,
   "metadata": {},
   "outputs": [
    {
     "name": "stdout",
     "output_type": "stream",
     "text": [
      "((<Cell 'Sheet1'.A1>, <Cell 'Sheet1'.B1>, <Cell 'Sheet1'.C1>), (<Cell 'Sheet1'.A2>, <Cell 'Sheet1'.B2>, <Cell 'Sheet1'.C2>), (<Cell 'Sheet1'.A3>, <Cell 'Sheet1'.B3>, <Cell 'Sheet1'.C3>))\n",
      "\n",
      "\n",
      "A1 2015-04-05 13:34:02\n",
      "B1 Apples\n",
      "C1 73\n",
      "--- END OF ROW ---\n",
      "A2 2015-04-05 03:41:23\n",
      "B2 Cherries\n",
      "C2 85\n",
      "--- END OF ROW ---\n",
      "A3 2015-04-06 12:46:51\n",
      "B3 Pears\n",
      "C3 14\n",
      "--- END OF ROW ---\n"
     ]
    },
    {
     "data": {
      "text/plain": [
       "'Here, we specify that we want the Cell objects in the rectangular area from A1 to C3,\\n   and we get a Generator object containing the Cell objects in that area.\\n   To help us visualize this Generator object,\\n   we can use tuple() on it to display its Cell objects in a tuple.'"
      ]
     },
     "execution_count": 140,
     "metadata": {},
     "output_type": "execute_result"
    }
   ],
   "source": [
    "# sheet = wb['Sheet1']\n",
    "print(tuple(sheet['A1':'C3']))\n",
    "print(\"\\n\")\n",
    "for rowOfCellObjects in sheet['A1':'C3']:\n",
    "    for cellObj in rowOfCellObjects:\n",
    "        print(cellObj.coordinate, cellObj.value)\n",
    "    print('--- END OF ROW ---')\n",
    "    \n",
    "\"\"\"Here, we specify that we want the Cell objects in the rectangular area from A1 to C3,\n",
    "   and we get a Generator object containing the Cell objects in that area.\n",
    "   To help us visualize this Generator object,\n",
    "   we can use tuple() on it to display its Cell objects in a tuple.\"\"\""
   ]
  },
  {
   "cell_type": "markdown",
   "metadata": {},
   "source": [
    "*Call the openpyxl.Workbook() function to create a new, blank Workbook object. Enter the following into the interactive shell.The workbook will start off with a single sheet named Sheet. You can change the name of the sheet by storing a new string in its title attribute.*"
   ]
  },
  {
   "cell_type": "code",
   "execution_count": 153,
   "metadata": {},
   "outputs": [
    {
     "name": "stdout",
     "output_type": "stream",
     "text": [
      "['Sheet']\n",
      "['Spam Bacon Eggs Sheet']\n"
     ]
    }
   ],
   "source": [
    "wb = openpyxl.Workbook()\n",
    "print(wb.sheetnames)\n",
    "wb.active.title = 'Spam Bacon Eggs Sheet'\n",
    "#chance the sheet name\n",
    "print(wb.sheetnames)\n",
    "wb.save('./Files/example_copy.xlsx')"
   ]
  },
  {
   "cell_type": "markdown",
   "metadata": {},
   "source": [
    "*Sheets can be added to and removed from a workbook with the create_sheet() and remove_sheet() methods. Enter the following into the interactive shell*"
   ]
  },
  {
   "cell_type": "code",
   "execution_count": 162,
   "metadata": {
    "scrolled": true
   },
   "outputs": [
    {
     "name": "stdout",
     "output_type": "stream",
     "text": [
      "['Sheet']\n",
      "['Sheet', 'Sheet1']\n",
      "['First Sheet', 'Sheet', 'Sheet1']\n",
      "['First Sheet', 'Sheet', 'Middle Sheet', 'Sheet1']\n",
      "['First Sheet', 'Sheet']\n"
     ]
    }
   ],
   "source": [
    "wb = openpyxl.Workbook()\n",
    "print(wb.sheetnames)\n",
    "wb.create_sheet()\n",
    "print(wb.sheetnames)\n",
    "wb.create_sheet(index=0, title='First Sheet')\n",
    "print(wb.sheetnames)\n",
    "wb.create_sheet(index=2, title='Middle Sheet')\n",
    "print(wb.sheetnames)\n",
    "wb.remove(wb['Middle Sheet'])\n",
    "wb.remove(wb['Sheet1'])\n",
    "print(wb.sheetnames)"
   ]
  },
  {
   "cell_type": "markdown",
   "metadata": {},
   "source": [
    "*Writing values to cells is much like writing values to keys in a dictionary. Enter this into the interactive shell*"
   ]
  },
  {
   "cell_type": "code",
   "execution_count": 164,
   "metadata": {},
   "outputs": [
    {
     "data": {
      "text/plain": [
       "'Hello world!'"
      ]
     },
     "execution_count": 164,
     "metadata": {},
     "output_type": "execute_result"
    }
   ],
   "source": [
    "sheet = wb['Sheet']\n",
    "sheet['A1'] = 'Hello world!'\n",
    "sheet['A1'].value"
   ]
  }
 ],
 "metadata": {
  "kernelspec": {
   "display_name": "Python 3",
   "language": "python",
   "name": "python3"
  },
  "language_info": {
   "codemirror_mode": {
    "name": "ipython",
    "version": 3
   },
   "file_extension": ".py",
   "mimetype": "text/x-python",
   "name": "python",
   "nbconvert_exporter": "python",
   "pygments_lexer": "ipython3",
   "version": "3.6.7"
  }
 },
 "nbformat": 4,
 "nbformat_minor": 2
}

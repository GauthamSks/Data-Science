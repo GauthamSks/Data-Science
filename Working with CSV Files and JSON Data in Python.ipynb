{
 "cells": [
  {
   "cell_type": "markdown",
   "metadata": {},
   "source": [
    "## Working with CSV Files and JSON Data"
   ]
  },
  {
   "cell_type": "markdown",
   "metadata": {},
   "source": [
    "*CSV stands for “comma-separated values,” and CSV files are simplified spreadsheets stored as plaintext files.*\n",
    "\n",
    "*JSON is a format that stores information as JavaScript source code in plaintext files.*"
   ]
  },
  {
   "cell_type": "markdown",
   "metadata": {},
   "source": [
    "#### CSV Module"
   ]
  },
  {
   "cell_type": "markdown",
   "metadata": {},
   "source": [
    "*Each line in a CSV file represents a row in the spreadsheet, and commas separate the cells in the row.Eg give below*\n",
    "\n",
    "|                                | \n",
    "|--------------------------------| \n",
    "| 4/5/2015 13:34,Apples,73       | \n",
    "| 4/5/2015 3:41,Cherries,85      | \n",
    "| 4/6/2015 12:46,Pears,14        | \n",
    "| 4/8/2015 8:59,Oranges,52       | \n",
    "| 4/10/2015 2:07,Apples,152      | \n",
    "| 4/10/2015 18:10,Bananas,23     | \n",
    "| 4/10/2015 2:40,Strawberries,98 | \n",
    "\n",
    "\n"
   ]
  },
  {
   "cell_type": "code",
   "execution_count": 4,
   "metadata": {
    "scrolled": true
   },
   "outputs": [
    {
     "name": "stdout",
     "output_type": "stream",
     "text": [
      "[['4/5/2014 13:34', 'Apples', '73'], ['4/5/2014 3:41', 'Cherries', '85'], ['4/6/2014 12:46', 'Pears', '14'], ['4/8/2014 8:59', 'Oranges', '52'], ['4/10/2014 2:07', 'Apples', '152'], ['4/10/2014 18:10', 'Bananas', '23'], ['4/10/2014 2:40', 'Strawberries', '98']]\n"
     ]
    }
   ],
   "source": [
    "import csv\n",
    "exampleFile = open('./Files/example.csv')\n",
    "exampleReader = csv.reader(exampleFile)\n",
    "exampleData = list(exampleReader)\n",
    "print(exampleData)"
   ]
  },
  {
   "cell_type": "markdown",
   "metadata": {},
   "source": [
    "*Now that you have the CSV file as a list of lists, you can access the value at a particular row and column with the expression exampleData[row][col], where row is the index of one of the lists in exampleData, and col is the index of the item you want from that list.*"
   ]
  },
  {
   "cell_type": "code",
   "execution_count": 7,
   "metadata": {},
   "outputs": [
    {
     "name": "stdout",
     "output_type": "stream",
     "text": [
      "4/5/2014 13:34\n",
      "Apples\n",
      "73\n"
     ]
    }
   ],
   "source": [
    "print(exampleData[0][0])\n",
    "print(exampleData[0][1])\n",
    "print(exampleData[0][2])"
   ]
  },
  {
   "cell_type": "markdown",
   "metadata": {},
   "source": [
    "*A Writer object lets you write data to a CSV file. To create a Writer object, you use the csv.writer() function.*"
   ]
  },
  {
   "cell_type": "code",
   "execution_count": 26,
   "metadata": {},
   "outputs": [],
   "source": [
    "outputFile = open('./Files/output.csv', 'w', newline='')\n",
    "outputWriter = csv.writer(outputFile)\n",
    "outputWriter.writerow(['spam', 'eggs', 'bacon', 'ham'])\n",
    "outputWriter.writerow(['Hello, world!', 'eggs', 'bacon', 'ham'])\n",
    "outputWriter.writerow([1, 2, 3.141592, 4])\n",
    "outputFile.close()"
   ]
  },
  {
   "cell_type": "markdown",
   "metadata": {},
   "source": [
    "### JSON Module"
   ]
  },
  {
   "cell_type": "markdown",
   "metadata": {},
   "source": [
    "*After you import the json module, you can call loads() and pass it a string of JSON data. Note that JSON strings always use double quotes. It will return that data as a Python dictionary. Python dictionaries are not ordered, so the key-value pairs may appear in a different order when you print jsonDataAsPythonValue.*"
   ]
  },
  {
   "cell_type": "code",
   "execution_count": 54,
   "metadata": {},
   "outputs": [
    {
     "data": {
      "text/plain": [
       "{'name': 'Zophie', 'isCat': True, 'miceCaught': 0, 'felineIQ': None}"
      ]
     },
     "execution_count": 54,
     "metadata": {},
     "output_type": "execute_result"
    }
   ],
   "source": [
    "import json\n",
    "stringOfJsonData = '{\"name\": \"Zophie\", \"isCat\": true, \"miceCaught\": 0,\"felineIQ\": null}'\n",
    "jsonDataAsPythonValue = json.loads(stringOfJsonData)\n",
    "jsonDataAsPythonValue"
   ]
  },
  {
   "cell_type": "markdown",
   "metadata": {},
   "source": [
    "The json.dumps() function (which means “dump string,” not “dumps”) will translate a Python value into a string of JSON-formatted data. Enter the following into the interactive shell:"
   ]
  },
  {
   "cell_type": "code",
   "execution_count": 57,
   "metadata": {},
   "outputs": [
    {
     "data": {
      "text/plain": [
       "'{\"isCat\": true, \"miceCaught\": 0, \"name\": \"Zophie\", \"felineIQ\": null}'"
      ]
     },
     "execution_count": 57,
     "metadata": {},
     "output_type": "execute_result"
    }
   ],
   "source": [
    "pythonValue = {'isCat': True, 'miceCaught': 0, 'name': 'Zophie','felineIQ': None}\n",
    "stringOfJsonData = json.dumps(pythonValue)\n",
    "stringOfJsonData"
   ]
  }
 ],
 "metadata": {
  "kernelspec": {
   "display_name": "Python 3",
   "language": "python",
   "name": "python3"
  },
  "language_info": {
   "codemirror_mode": {
    "name": "ipython",
    "version": 3
   },
   "file_extension": ".py",
   "mimetype": "text/x-python",
   "name": "python",
   "nbconvert_exporter": "python",
   "pygments_lexer": "ipython3",
   "version": "3.6.7"
  }
 },
 "nbformat": 4,
 "nbformat_minor": 2
}

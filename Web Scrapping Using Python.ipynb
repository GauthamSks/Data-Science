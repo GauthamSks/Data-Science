{
 "cells": [
  {
   "cell_type": "markdown",
   "metadata": {},
   "source": [
    "## Web Scraping"
   ]
  },
  {
   "cell_type": "markdown",
   "metadata": {},
   "source": [
    "Web scraping is the term for using a program to download and process content from the Web."
   ]
  },
  {
   "cell_type": "markdown",
   "metadata": {},
   "source": [
    "Modules For Web Scraping<br/>\n",
    "\n",
    "* Webbrowser\n",
    "* Requests\n",
    "* Beautiful Soup\n",
    "* Selenium\n"
   ]
  },
  {
   "cell_type": "code",
   "execution_count": 1,
   "metadata": {},
   "outputs": [
    {
     "data": {
      "text/plain": [
       "True"
      ]
     },
     "execution_count": 1,
     "metadata": {},
     "output_type": "execute_result"
    }
   ],
   "source": [
    "import webbrowser\n",
    "#The webbrowser module’s open() function can launch a new browser to a specified URL. \n",
    "webbrowser.open('http://inventwithpython.com/')"
   ]
  },
  {
   "cell_type": "markdown",
   "metadata": {},
   "source": [
    "**Example Program:**"
   ]
  },
  {
   "cell_type": "code",
   "execution_count": 3,
   "metadata": {},
   "outputs": [
    {
     "data": {
      "text/plain": [
       "True"
      ]
     },
     "execution_count": 3,
     "metadata": {},
     "output_type": "execute_result"
    }
   ],
   "source": [
    "#!/usr/bin/env python3\n",
    "\n",
    "#Python Script To Open Google Maps to Specific Location.\n",
    "\n",
    "import webbrowser,sys,pyperclip\n",
    "\n",
    "if (len(sys.argv)>1): #if the input is taken from the commandLine.\n",
    "    #sys.argv[0] returns the program name that is mapit.py\n",
    "    address = ' '.join(sys.argv[1:]) # joins the arguments with single spaces (' ') between them.\n",
    "\n",
    "else:\n",
    "    #To take the input from your clipboard.\n",
    "    address = pyperclip.paste()\n",
    "\n",
    "webbrowser.open('https://www.google.com/maps/place/' + address)"
   ]
  },
  {
   "cell_type": "markdown",
   "metadata": {},
   "source": [
    "**The requests module lets you download files from the Web**<br/>\n",
    "The requests.get() function takes a string of a URL to download and it returns a Response object, which contains the response that the web server gave for your request."
   ]
  },
  {
   "cell_type": "markdown",
   "metadata": {},
   "source": [
    "**Example Program:** *For Downloading and saving files to harddisk.*\n",
    "    "
   ]
  },
  {
   "cell_type": "code",
   "execution_count": 5,
   "metadata": {},
   "outputs": [],
   "source": [
    "#!/usr/bin/env python3\n",
    "\n",
    "#Script to download and save files to harddrive using pythons request module.\n",
    "\n",
    "import requests\n",
    "\n",
    "res = requests.get('https://automatetheboringstuff.com/files/rj.txt')\n",
    "\n",
    "try:\n",
    "\n",
    "    res.raise_for_status()\n",
    "\n",
    "except Exception as exc:\n",
    "\n",
    "    print('There was a problem: %s' % (exc))\n",
    "\n",
    "playFile = open('RomeoAndJuliet.txt', 'wb')\n",
    "\n",
    "for chunk in res.iter_content(100000):\n",
    "\tplayFile.write(chunk)\n",
    "\n",
    "playFile.close()"
   ]
  },
  {
   "cell_type": "markdown",
   "metadata": {},
   "source": [
    "**Checking for errors**<br/>\n",
    "\n",
    "As you’ve seen, the Response object has a status_code attribute that can be checked against requests.codes.ok to see whether the download succeeded. A simpler way to check for success is to call the raise_for_status() method on the Response object. This will raise an exception if there was an error downloading the file and will do nothing if the download succeeded.<br/>\n",
    "\n",
    "The raise_for_status() method is a good way to ensure that a program halts if a bad download occurs. This is a good thing: You want your program to stop as soon as some unexpected error happens. If a failed download isn’t a deal breaker for your program, you can wrap the raise_for_status() line with try and except statements to handle this error case without crashing."
   ]
  },
  {
   "cell_type": "markdown",
   "metadata": {},
   "source": [
    "**Example Program**\n"
   ]
  },
  {
   "cell_type": "code",
   "execution_count": 6,
   "metadata": {},
   "outputs": [
    {
     "name": "stdout",
     "output_type": "stream",
     "text": [
      "There was a problem: 404 Client Error: Not Found for url: http://inventwithpython.com/page_that_does_not_exist\n"
     ]
    }
   ],
   "source": [
    "import requests\n",
    "\n",
    "res = requests.get('http://inventwithpython.com/page_that_does_not_exist')\n",
    "try:\n",
    "    res.raise_for_status()\n",
    "except Exception as exc:\n",
    "    print('There was a problem: %s' % (exc))"
   ]
  },
  {
   "cell_type": "markdown",
   "metadata": {},
   "source": [
    "**Parsing HTML with the BeautifulSoup Module**<br/>\n",
    "Beautiful Soup is a module for extracting information from an HTML page.<br/>\n",
    "*Example for an HTML page is given below*"
   ]
  },
  {
   "cell_type": "markdown",
   "metadata": {},
   "source": [
    "![](s.png)\n"
   ]
  },
  {
   "cell_type": "markdown",
   "metadata": {},
   "source": [
    "*Parsing the above HTML page usig BeautifulSoup*"
   ]
  },
  {
   "cell_type": "code",
   "execution_count": 40,
   "metadata": {},
   "outputs": [
    {
     "name": "stdout",
     "output_type": "stream",
     "text": [
      "\n",
      "Skip to main content\n",
      " \n",
      "\n",
      "{'id': 'skip-link'} \n",
      "\n",
      "[<div id=\"skip-link\">\n",
      "<a class=\"element-invisible element-focusable\" href=\"#main-content\">Skip to main content</a>\n",
      "</div>] \n",
      "\n",
      "skip-link \n",
      "\n",
      "13\n",
      "https://nostarch.com/sites/default/files/js/js_MRdvkC2u4oGsp5wVxBG1pGV5NrCPW3mssHxIn6G9tGE.js\n"
     ]
    },
    {
     "data": {
      "text/plain": [
       "\"note: soup.select('div span') \\n         All elements named <span> that are within an element named <div>\""
      ]
     },
     "execution_count": 40,
     "metadata": {},
     "output_type": "execute_result"
    }
   ],
   "source": [
    "import bs4\n",
    "import requests\n",
    "\n",
    "file=requests.get('https://nostarch.com/')\n",
    "if(file.status_code == requests.codes.ok): #Another way to check if the download was a success\n",
    "    obj=bs4.BeautifulSoup(file.text)\n",
    "    elems=obj.select('#skip-link') # ('Here input the tag to select') \n",
    "    print(elems[0].getText(),\"\\n\")\n",
    "    \n",
    "    print(elems[0].attrs,\"\\n\") #give the attributes\n",
    "        \n",
    "    str(elems) #elems is a list so converting to string\n",
    "    print(elems,\"\\n\")\n",
    "    \n",
    "     #To get the data\n",
    "    print(elems[0].get('id'),\"\\n\")\n",
    "    \n",
    "    elems1=obj.select('script')\n",
    "    print(len(elems1))\n",
    "    str(elems1)\n",
    "    print(elems1[12].get('src')) #The last script tag in the image given above.\n",
    "    \n",
    "else:\n",
    "    print(\"Error 404\")\n",
    "    \n",
    "'''note: soup.select('div span') \n",
    "         All elements named <span> that are within an element named <div>'''\n"
   ]
  },
  {
   "cell_type": "markdown",
   "metadata": {},
   "source": [
    "**Example** : Python script to automatically open a browser with all the top search results for a given input in new tabs."
   ]
  },
  {
   "cell_type": "code",
   "execution_count": 8,
   "metadata": {},
   "outputs": [],
   "source": [
    "import sys\n",
    "import requests\n",
    "import bs4\n",
    "import webbrowser\n",
    "\n",
    "wpage=requests.get('https://www.google.com/search?ei=6ZHmXJHfIsnSvwSU87eoCA&q=virat+kohli&oq=virat&gs_l=psy-ab.1.0.0i67l2j0j0i67j0j0i67j0j0i67j0l2.285694.298322..299640...6.0..0.184.1723.0j12......0....1..gws-wiz.....6..0i71j35i39j0i131j0i131i67j0i10.njTLT2cDnYk')"
   ]
  },
  {
   "cell_type": "code",
   "execution_count": 32,
   "metadata": {
    "scrolled": true
   },
   "outputs": [],
   "source": [
    "obj=bs4.BeautifulSoup(wpage.text,\"lxml\")\n",
    "links=obj.select('cite')\n",
    "for i in range(len(links)):\n",
    "    str(links[i])\n",
    "    webbrowser.open(str(links[i].getText()))\n",
    "    \n"
   ]
  },
  {
   "cell_type": "markdown",
   "metadata": {},
   "source": [
    "**Selenium Module**<br/>\n",
    "\n",
    "*The selenium module lets Python directly control the browser by programmatically clicking links and filling in login information, almost as though there is a human user interacting with the page. Selenium allows you to interact with web pages in a much more advanced way than Requests and Beautiful Soup; but because it launches a web browser, it is a bit slower and hard to run in the background*"
   ]
  },
  {
   "cell_type": "code",
   "execution_count": null,
   "metadata": {},
   "outputs": [],
   "source": [
    "from selenium import webdriver\n",
    "browser = webdriver.Chrome()"
   ]
  },
  {
   "cell_type": "markdown",
   "metadata": {},
   "source": [
    "*In selenium there are two methods for finding elements on a page.They are 'fine_element_by*' and 'find_elements_by*' methods. The find_element_by* methods return a single WebElement object, representing the first element on the page that matches your query. The find_elements_* methods return a list of WebElement_* objects for every matching element on the page.*\n",
    "\n",
    "#### Example: browser.find_element_by_name(name)\n",
    "*Returns Elements with a matching name attribute value*\n"
   ]
  },
  {
   "cell_type": "markdown",
   "metadata": {},
   "source": [
    "### Important Attribute\n",
    "- tag_name\n",
    "- get_attribute(name)\n",
    "- text\n",
    "- click()\n",
    "- send_keys() and submit()\n",
    "- back()\n",
    "- forward()\n",
    "- refresh()\n",
    "- quit()"
   ]
  }
 ],
 "metadata": {
  "kernelspec": {
   "display_name": "Python 3",
   "language": "python",
   "name": "python3"
  },
  "language_info": {
   "codemirror_mode": {
    "name": "ipython",
    "version": 3
   },
   "file_extension": ".py",
   "mimetype": "text/x-python",
   "name": "python",
   "nbconvert_exporter": "python",
   "pygments_lexer": "ipython3",
   "version": "3.6.7"
  }
 },
 "nbformat": 4,
 "nbformat_minor": 2
}

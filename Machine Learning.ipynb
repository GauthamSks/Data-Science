{
 "cells": [
  {
   "cell_type": "markdown",
   "metadata": {},
   "source": [
    "# <p style=\"text-align: center\">Machine Learning<p/>"
   ]
  },
  {
   "cell_type": "markdown",
   "metadata": {},
   "source": [
    "- Machine Learning is the field of study that gives computers the ability to learn without being explicitly programmed.\n",
    "- A computer program is said to learn from experience E with respect to some task T and some performance measure P, if its performance on T, as measured by p, improves with experience E\n"
   ]
  },
  {
   "cell_type": "markdown",
   "metadata": {},
   "source": [
    "Machine Learning Alogorithms:\n",
    "- Supervised learning\n",
    "- Unsupervised learning\n",
    "- Reinforcement learning\n",
    "- Recommender systems"
   ]
  },
  {
   "cell_type": "markdown",
   "metadata": {},
   "source": [
    "#### Supervised Learning\n",
    "\n",
    "In supervised learning, we are given a data set and already know what our correct output should look like, having the idea that there is a relationship between the input and the output.\n",
    "\n",
    "Supervised learning problems are categorized into \"Regression\" and \"Rlassification\" problems.\n",
    "\n",
    "- ##### *Regression*\n",
    "\n",
    "Regression is useful for predicting outputs that are continuous. That means the answer to your question is represented by a quantity that can be flexibly determined based on the inputs of the model rather than being confined to a set of possible labels.The output is a real value, which can be an integer or a floating point value. Therefore, regression prediction problems are usually quantities or sizes.<br/>\n",
    "\n",
    "Eg:when provided with a dataset about houses, and you are asked to predict their prices, that is a regression task because price will be a continuous output.\n",
    "\n",
    "\n",
    "Examples of the common regression algorithms include linear regression, Support Vector Regression (SVR), and regression trees.\n",
    "\n",
    "\n",
    "- ##### *Classification*\n",
    "\n",
    "Classification algorithms are used when the desired output is a discrete label. In other words, they’re helpful when the answer to your question falls under a finite set of possible outcomes.That is the output variable is a category, such as “red” or “blue” or “disease” and “no disease”.\n",
    "\n",
    "Eg:Determining whether an email is spam or not\n",
    "\n",
    "Examples of the common classification algorithms include logistic regression, Naïve Bayes, decision trees, and K Nearest Neighbors.\n",
    "\n",
    "\n"
   ]
  },
  {
   "cell_type": "markdown",
   "metadata": {},
   "source": [
    "#### Unsupervised Learning\n",
    "\n",
    "Unsupervised learning is the training of machine using information that is neither classified nor labeled and allowing the algorithm to act on that information without guidance. Here the task of machine is to group unsorted information according to similarities, patterns and differences without any prior training of data.Unlike supervised learning, no teacher is provided that means no training will be given to the machine. Therefore machine is restricted to find the hidden structure in unlabeled data by it-self.\n",
    "\n",
    "Unsupervised learning problems are categorized into \"Clustering\" and \"Association\".\n",
    "\n",
    "- ##### Clustering\n",
    "- ##### Association"
   ]
  },
  {
   "cell_type": "code",
   "execution_count": null,
   "metadata": {},
   "outputs": [],
   "source": []
  }
 ],
 "metadata": {
  "kernelspec": {
   "display_name": "Python 3",
   "language": "python",
   "name": "python3"
  },
  "language_info": {
   "codemirror_mode": {
    "name": "ipython",
    "version": 3
   },
   "file_extension": ".py",
   "mimetype": "text/x-python",
   "name": "python",
   "nbconvert_exporter": "python",
   "pygments_lexer": "ipython3",
   "version": "3.6.7"
  }
 },
 "nbformat": 4,
 "nbformat_minor": 2
}
